{
 "cells": [
  {
   "cell_type": "markdown",
   "metadata": {},
   "source": [
    "# Machine Learning"
   ]
  },
  {
   "cell_type": "markdown",
   "metadata": {},
   "source": [
    "# 1. What is Machine Learning?"
   ]
  },
  {
   "cell_type": "markdown",
   "metadata": {},
   "source": [
    "### Definition) Machine Learning\n",
    "\n",
    "\"Field of study that gives computers the ability to learn without being explicitly programmed\" by Arthur Samuel (1959)\n",
    "\n",
    "\"컴퓨터에게 배울 수 있는 능력, 즉 코드로 정의하지 않은 동작을 실행하는 능력에 대한 연구 분야\" - 위키피디아\n",
    "\n",
    "그렇다면 배운다 혹은 학습한다는 의미는 무엇인가\n",
    "\n",
    "### Definition of Learning)\n",
    "\n",
    "A computer program is said to learn from experience __E__ (data)\n",
    "with respect to some class of tasks __T__ and performance __P__,\n",
    "if its performance at tasks in __T__, as measured by __P__, improves\n",
    "with experience __E__.\n",
    "<br>즉, 어떠한 태스크(__T__)에 대해 꾸준한 경험(__E__)을 통하여 그 __T__에 대한 성능(__P__)를 높이는 것을 Learning라고 한다.\n",
    "\n",
    "### Example)\n",
    "example: learning to classifying emails as spam or ham\n",
    "- task T: classifying emails as spam or ham\n",
    "- performance measure P: accuracy\n",
    "- training experience E: emails\n",
    "\n",
    "\n",
    "\n",
    "### Why Machine Learning?\n",
    "- 머신러닝은 우리가 문제 해결하는 방법을 결정하는 것이 아니라 문제 해결에 맞는 알고리즘을 개발하는 과정이다. 그렇기 때문에 함수가 매우 복잡하고 어려울 경우 머신러닝이 유용하다.\n",
    "- 큰 데이터에서 의미있는 정보를 뽑아오는데 사람의 분석하는데에는 한계가 있다.\n"
   ]
  },
  {
   "cell_type": "markdown",
   "metadata": {},
   "source": [
    "### Remark) Issues in ML\n",
    "- What algorithms can approximate functions well?\n",
    "- How does training examples influence accuracy? (sample complexity)\n",
    "- What is the upper bounds of general errors for a learning system? (generalization bounds)\n",
    "- How does noisy data influence accuracy?\n",
    "- What is the optimal structure of learning models?\n",
    "- How can prior knowledge of learner help?\n",
    "- What clues can we get from biological learning system?"
   ]
  },
  {
   "cell_type": "markdown",
   "metadata": {},
   "source": [
    "# 2. Classes of Machine Learning, 머신러닝 종류"
   ]
  },
  {
   "cell_type": "markdown",
   "metadata": {},
   "source": [
    "## Supervised Learning, 지도학습\n",
    "\n",
    "### Definition) Supervised Learning\n",
    "__Supervised learning__ is the machine learning task of inferring a function from labeled training data. Each labeld training data is a pair consisting of an input object (typically a vector) and a desired output value (also called the supervisory signal). A supervised learning algorithm analyzes the training data and produces an inferred function, which can be used for mapping new examples. (By Wikipedia)\n",
    "\n",
    "입력값(Input)과 출력값(output or target)을 갖고 있는 데이터를 이용하여 다른 입력값이 주어졌을 때 적절한 출력값을 주는 함수를 학습하는 방법.\n",
    "\n",
    "지도학습 유형\n",
    "1. Classification, 분류\n",
    "\n",
    "    __Definition) Classification__\n",
    "    __Classification__ is the problem of identifying to which of a set of categories (sub-populations) a new observation belongs, on the basis of a training set of data containing observations (or instances) whose category membership is known.\n",
    "\n",
    "    - 미리 정의된 여러 클래스의 라벨 중 하나를 예측 하는 것이 목적이다.\n",
    "    - kNN, Naive Bayes, Support Vector Machine, Decision tree\n",
    "\n",
    "- Figure1 : Classification\n",
    "![](./image/image1.png)\n",
    "\n",
    "\n",
    "\n",
    "2. Regression, 회귀\n",
    "\n",
    "    __Definition) Regression__\n",
    "    __Regression__ is a set of statistical processes for estimating the relationships among variables. It includes many techniques for modeling and analyzing several variables, when the focus is on the relationship between a dependent variable and one or more independent variables (or 'predictors').\n",
    "    \n",
    "        - 주어진값에 대한 추정값을 계산하는 것이 목적이다.\n",
    "        - Linear regression, Lidge, Lasso\n",
    "        \n",
    "\n",
    "- Figure2 : 회귀\n",
    "![](./image/image2.png)\n",
    "\n",
    "\n",
    "\n",
    "## Unsupervised Learning, 비지도학습\n",
    "\n",
    "### Definition) Unsupervised Learning\n",
    "__Unsupervised learning__ is the machine learning task of inferring a function to describe hidden structure from \"unlabeled\" data (By Wikipedia)\n",
    "\n",
    "갖고 있는 데이터에 출력값이 주어지지 않을 때, 즉 입력값만을 이용하여 데이터의 구조를 파악하는 학습 방법\n",
    "\n",
    "지도학습 유형\n",
    "1. Clustering, 군집화\n",
    "\n",
    "    \n",
    "    __Definition) Clustering__\n",
    "    __clustering__ is the task of grouping a set of objects in such a way that objects in the same group (called a cluster) are more similar (in some sense) to each other than to those in other groups (clusters). \n",
    "    \n",
    "        - 비슷한 성질을 갖는 데이터끼리 군집화 하는 것을 목표로 한다.\n",
    "        - Hierarchical Clustering, K-means Clustering\n",
    "\n",
    "- Figure3 : Clustering\n",
    "![](./image/image3.png)\n",
    "출처:http://sanghyukchun.github.io/69/\n",
    "\n",
    "2. Density Estimation, 밀도추정\n",
    "\n",
    "    __Definition) Density estimation__\n",
    "    __Density estimation__ is the construction of an estimate, based on observed data, of an unobservable underlying probability density function.\n",
    "    \n",
    "        - 데이터로부터 변수가 가질 수 있는 모든 값의 확률분포 특성을 추정하는 것이 목표이다.\n",
    "        - Kernel Density Estimation,\n",
    "        \n",
    "\n",
    "- Figure4 : Density Estimation\n",
    "![](./image/image4.png)\n",
    "출처: https://en.wikipedia.org/wiki/Kernel_density_estimation\n",
    "\n",
    "\n"
   ]
  },
  {
   "cell_type": "markdown",
   "metadata": {},
   "source": [
    "# 3. Step of Machine Learning, 머신러닝 기본 단계"
   ]
  },
  {
   "cell_type": "markdown",
   "metadata": {},
   "source": [
    "1. Data Collection, 데이터 수집\n",
    "2. Data Exploration and Profiling, 데이터 분석 (데이터 관찰 및 가설 설정)\n",
    "3. Choose a Model, 알고리즘 선택 \n",
    "4. Formatting data to make it consistent, 입력 데이터 준비(전처리 작업)\n",
    "5. Train the Model, 알고리즘 학습(훈련)\n",
    "6. Evaluate the Model, 알고리즘 테스트(검증)"
   ]
  },
  {
   "cell_type": "code",
   "execution_count": null,
   "metadata": {
    "collapsed": true
   },
   "outputs": [],
   "source": []
  }
 ],
 "metadata": {
  "kernelspec": {
   "display_name": "Python 3",
   "language": "python",
   "name": "python3"
  },
  "language_info": {
   "codemirror_mode": {
    "name": "ipython",
    "version": 3
   },
   "file_extension": ".py",
   "mimetype": "text/x-python",
   "name": "python",
   "nbconvert_exporter": "python",
   "pygments_lexer": "ipython3",
   "version": "3.6.3"
  }
 },
 "nbformat": 4,
 "nbformat_minor": 2
}
