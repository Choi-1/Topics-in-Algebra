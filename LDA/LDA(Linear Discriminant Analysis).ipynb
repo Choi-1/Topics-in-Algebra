{
 "cells": [
  {
   "cell_type": "markdown",
   "metadata": {},
   "source": [
    "# LDA(Linear Discriminant Analysis)"
   ]
  },
  {
   "cell_type": "markdown",
   "metadata": {},
   "source": [
    "## 1. Discriminate Analysis"
   ]
  },
  {
   "cell_type": "markdown",
   "metadata": {},
   "source": [
    ":Discriminant analysis is a technique that is used by the researcher to analyze the research data when the criterion or the dependent variable is __categorical__ and the predictor or the independent variable is __interval__ in nature\n",
    "\n",
    "__Example__\n",
    "\n",
    " - Predict whether a student will “Pass” or “Fail” in an exam based on the marks he has been scoring in the various class tests in the run up to the final exam.\n",
    " - Predict whether a customer will make his monthly mortgage payment or not based on the salary he has been drawing, his monthly expenditure and other bank liabilities etc."
   ]
  },
  {
   "cell_type": "markdown",
   "metadata": {},
   "source": [
    "## 2. Linear Discriminant Analysis(LDA)"
   ]
  },
  {
   "cell_type": "markdown",
   "metadata": {},
   "source": [
    ": Linear discriminant analysis (LDA), normal discriminant analysis (NDA), or discriminant function analysis is a generalization of Fisher's linear discriminant, a method used in statistics, pattern recognition, and machine learning to find __a linear combination of features__ that __characterizes__ or __separates__ two or more classes of objects or events."
   ]
  },
  {
   "cell_type": "markdown",
   "metadata": {},
   "source": [
    "- LDA is a __dimensionality reduction__ technique which is commonly used for the supervised __classification problems__.\n",
    "- LDA is like PCA, but it focuses on maximizing  the seperatibility among known categories."
   ]
  },
  {
   "cell_type": "markdown",
   "metadata": {},
   "source": [
    "Fiture1. A simple example\n",
    "![Image](./images/image1.png)\n",
    "Reference:https://www.geeksforgeeks.org/ml-linear-discriminant-analysis/"
   ]
  },
  {
   "cell_type": "markdown",
   "metadata": {},
   "source": [
    "Fiture2. Simple examples of reducing a 2D graph to a 1D graph.\n",
    "![Image](./images/image2.png)\n",
    "Reference: https://www.geeksforgeeks.org/ml-linear-discriminant-analysis/"
   ]
  },
  {
   "cell_type": "markdown",
   "metadata": {},
   "source": [
    "### 1) Purpose"
   ]
  },
  {
   "cell_type": "markdown",
   "metadata": {},
   "source": [
    ": The goal is to find a straight line that can distinguish the two categories after projecting the data on a specific axis."
   ]
  },
  {
   "cell_type": "markdown",
   "metadata": {},
   "source": [
    "__Question__ How can we define 'Good axis'?"
   ]
  },
  {
   "cell_type": "markdown",
   "metadata": {},
   "source": [
    "Fiture3. Conditions of a good axis.\n",
    "![Image](./images/image3.png)"
   ]
  },
  {
   "cell_type": "markdown",
   "metadata": {},
   "source": [
    "The answer is that\n",
    "\n",
    "- The large value of $(\\mu_1-\\mu_2)^2\\quad\\rightarrow$ between-class distance\n",
    "- The small value of $S_1^2+S_2^2\\quad\\rightarrow$ within-class distance"
   ]
  },
  {
   "cell_type": "markdown",
   "metadata": {},
   "source": [
    "Fiture4. An example of 3 classes data.\n",
    "![Image](./images/image4.png)\n",
    "Reference: https://www.youtube.com/watch?v=azXCzI57Yfc"
   ]
  },
  {
   "cell_type": "markdown",
   "metadata": {},
   "source": [
    "### 2) Mathematical setting"
   ]
  },
  {
   "cell_type": "markdown",
   "metadata": {},
   "source": [
    "Let\n",
    "\n",
    "- $X\\in\\mathbb{R}^{N\\times p}$ is th all data where $N$ is the number of the all data and $p$ is the number of the features;\n",
    "- $n$ be the number of classes;\n",
    "- $\\mu$ be the mean of all data;\n",
    "- $N_i$ be the number of data in the $i$-th class;\n",
    "- $\\mu_i$ be the mean of data in the $i$-th class;\n",
    "- $\\sum_i$ be the covariance matrix( or scatter matrix) of the $i$-th class;\n",
    "$$\\sum_{i} = \\sum_{k=1}^{N_i}(\\mathbf{x}_{ik}-\\mu_i)^T(\\mathbf{x}_{ik}-\\mu_i)$$\n",
    "where $\\mathbf{x}_{ik}$ is data in $i$-th calss."
   ]
  },
  {
   "cell_type": "markdown",
   "metadata": {},
   "source": [
    "Then "
   ]
  },
  {
   "cell_type": "markdown",
   "metadata": {},
   "source": []
  },
  {
   "cell_type": "markdown",
   "metadata": {},
   "source": []
  },
  {
   "cell_type": "markdown",
   "metadata": {},
   "source": []
  },
  {
   "cell_type": "markdown",
   "metadata": {},
   "source": [
    "두개 이상의 모집단으로부터의 표본이 섞여있을 때, 각각의 사례(case)에 대하여 그것이 어느 모집단에 속해 있는지를 판별하기 위해 함수를 만들어 판별작업을 실시하는 분석방법이다.\n",
    "\n",
    "계량적으로 판단기준 즉, 판별함수를 만들어 평가대상이 어떤 상태인가를 식별하는 분석방법을 가리킨다.\n",
    "\n",
    "여러 정의가 있음\n",
    "\n",
    "\n",
    "고객이 자신의 월급, 월별 지출 및 기타 은행 부채 등을 기준으로 월별 모기지 지불 여부를 예측합니다."
   ]
  },
  {
   "cell_type": "markdown",
   "metadata": {},
   "source": []
  },
  {
   "cell_type": "markdown",
   "metadata": {},
   "source": []
  },
  {
   "cell_type": "markdown",
   "metadata": {},
   "source": []
  },
  {
   "cell_type": "markdown",
   "metadata": {},
   "source": []
  },
  {
   "cell_type": "markdown",
   "metadata": {},
   "source": []
  },
  {
   "cell_type": "markdown",
   "metadata": {},
   "source": []
  },
  {
   "cell_type": "markdown",
   "metadata": {},
   "source": []
  },
  {
   "cell_type": "markdown",
   "metadata": {},
   "source": []
  },
  {
   "cell_type": "markdown",
   "metadata": {},
   "source": []
  },
  {
   "cell_type": "markdown",
   "metadata": {},
   "source": []
  },
  {
   "cell_type": "markdown",
   "metadata": {},
   "source": []
  },
  {
   "cell_type": "markdown",
   "metadata": {},
   "source": []
  },
  {
   "cell_type": "markdown",
   "metadata": {},
   "source": []
  },
  {
   "cell_type": "markdown",
   "metadata": {},
   "source": []
  },
  {
   "cell_type": "markdown",
   "metadata": {},
   "source": []
  }
 ],
 "metadata": {
  "kernelspec": {
   "display_name": "Python 3",
   "language": "python",
   "name": "python3"
  },
  "language_info": {
   "codemirror_mode": {
    "name": "ipython",
    "version": 3
   },
   "file_extension": ".py",
   "mimetype": "text/x-python",
   "name": "python",
   "nbconvert_exporter": "python",
   "pygments_lexer": "ipython3",
   "version": "3.6.9"
  }
 },
 "nbformat": 4,
 "nbformat_minor": 2
}
