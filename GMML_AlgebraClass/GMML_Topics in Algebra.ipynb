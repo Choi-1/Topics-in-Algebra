{
 "cells": [
  {
   "cell_type": "markdown",
   "metadata": {},
   "source": [
    "## Step1) Preprocessing"
   ]
  },
  {
   "cell_type": "markdown",
   "metadata": {},
   "source": [
    "##### 1. Bring out the data"
   ]
  },
  {
   "cell_type": "code",
   "execution_count": 1,
   "metadata": {},
   "outputs": [
    {
     "data": {
      "text/html": [
       "<div>\n",
       "<style scoped>\n",
       "    .dataframe tbody tr th:only-of-type {\n",
       "        vertical-align: middle;\n",
       "    }\n",
       "\n",
       "    .dataframe tbody tr th {\n",
       "        vertical-align: top;\n",
       "    }\n",
       "\n",
       "    .dataframe thead th {\n",
       "        text-align: right;\n",
       "    }\n",
       "</style>\n",
       "<table border=\"1\" class=\"dataframe\">\n",
       "  <thead>\n",
       "    <tr style=\"text-align: right;\">\n",
       "      <th></th>\n",
       "      <th>0</th>\n",
       "      <th>1</th>\n",
       "      <th>2</th>\n",
       "      <th>3</th>\n",
       "      <th>4</th>\n",
       "      <th>5</th>\n",
       "      <th>6</th>\n",
       "      <th>7</th>\n",
       "      <th>8</th>\n",
       "      <th>9</th>\n",
       "      <th>10</th>\n",
       "      <th>11</th>\n",
       "      <th>12</th>\n",
       "      <th>target</th>\n",
       "    </tr>\n",
       "  </thead>\n",
       "  <tbody>\n",
       "    <tr>\n",
       "      <th>0</th>\n",
       "      <td>12.08</td>\n",
       "      <td>1.33</td>\n",
       "      <td>2.30</td>\n",
       "      <td>23.6</td>\n",
       "      <td>70.0</td>\n",
       "      <td>2.20</td>\n",
       "      <td>1.59</td>\n",
       "      <td>0.42</td>\n",
       "      <td>1.38</td>\n",
       "      <td>1.74</td>\n",
       "      <td>1.07</td>\n",
       "      <td>3.21</td>\n",
       "      <td>625.0</td>\n",
       "      <td>1</td>\n",
       "    </tr>\n",
       "    <tr>\n",
       "      <th>1</th>\n",
       "      <td>12.82</td>\n",
       "      <td>3.37</td>\n",
       "      <td>2.30</td>\n",
       "      <td>19.5</td>\n",
       "      <td>88.0</td>\n",
       "      <td>1.48</td>\n",
       "      <td>0.66</td>\n",
       "      <td>0.40</td>\n",
       "      <td>0.97</td>\n",
       "      <td>10.26</td>\n",
       "      <td>0.72</td>\n",
       "      <td>1.75</td>\n",
       "      <td>685.0</td>\n",
       "      <td>2</td>\n",
       "    </tr>\n",
       "    <tr>\n",
       "      <th>2</th>\n",
       "      <td>14.21</td>\n",
       "      <td>4.04</td>\n",
       "      <td>2.44</td>\n",
       "      <td>18.9</td>\n",
       "      <td>111.0</td>\n",
       "      <td>2.85</td>\n",
       "      <td>2.65</td>\n",
       "      <td>0.30</td>\n",
       "      <td>1.25</td>\n",
       "      <td>5.24</td>\n",
       "      <td>0.87</td>\n",
       "      <td>3.33</td>\n",
       "      <td>1080.0</td>\n",
       "      <td>0</td>\n",
       "    </tr>\n",
       "    <tr>\n",
       "      <th>3</th>\n",
       "      <td>13.05</td>\n",
       "      <td>5.80</td>\n",
       "      <td>2.13</td>\n",
       "      <td>21.5</td>\n",
       "      <td>86.0</td>\n",
       "      <td>2.62</td>\n",
       "      <td>2.65</td>\n",
       "      <td>0.30</td>\n",
       "      <td>2.01</td>\n",
       "      <td>2.60</td>\n",
       "      <td>0.73</td>\n",
       "      <td>3.10</td>\n",
       "      <td>380.0</td>\n",
       "      <td>1</td>\n",
       "    </tr>\n",
       "    <tr>\n",
       "      <th>4</th>\n",
       "      <td>13.62</td>\n",
       "      <td>4.95</td>\n",
       "      <td>2.35</td>\n",
       "      <td>20.0</td>\n",
       "      <td>92.0</td>\n",
       "      <td>2.00</td>\n",
       "      <td>0.80</td>\n",
       "      <td>0.47</td>\n",
       "      <td>1.02</td>\n",
       "      <td>4.40</td>\n",
       "      <td>0.91</td>\n",
       "      <td>2.05</td>\n",
       "      <td>550.0</td>\n",
       "      <td>2</td>\n",
       "    </tr>\n",
       "  </tbody>\n",
       "</table>\n",
       "</div>"
      ],
      "text/plain": [
       "       0     1     2     3      4     5     6     7     8      9    10    11  \\\n",
       "0  12.08  1.33  2.30  23.6   70.0  2.20  1.59  0.42  1.38   1.74  1.07  3.21   \n",
       "1  12.82  3.37  2.30  19.5   88.0  1.48  0.66  0.40  0.97  10.26  0.72  1.75   \n",
       "2  14.21  4.04  2.44  18.9  111.0  2.85  2.65  0.30  1.25   5.24  0.87  3.33   \n",
       "3  13.05  5.80  2.13  21.5   86.0  2.62  2.65  0.30  2.01   2.60  0.73  3.10   \n",
       "4  13.62  4.95  2.35  20.0   92.0  2.00  0.80  0.47  1.02   4.40  0.91  2.05   \n",
       "\n",
       "       12  target  \n",
       "0   625.0       1  \n",
       "1   685.0       2  \n",
       "2  1080.0       0  \n",
       "3   380.0       1  \n",
       "4   550.0       2  "
      ]
     },
     "execution_count": 1,
     "metadata": {},
     "output_type": "execute_result"
    }
   ],
   "source": [
    "import numpy as np\n",
    "import pandas as pd\n",
    "from sklearn.datasets import load_wine\n",
    "\n",
    "##Step 1 ) Bring out data\n",
    "wine_data = pd.DataFrame(load_wine().data)\n",
    "y = pd.Series(load_wine().target)\n",
    "wine_data['target'] = y\n",
    "del y\n",
    "shuffled_data = wine_data.sample(frac=1).reset_index(drop=True)\n",
    "\n",
    "shuffled_data.head()"
   ]
  },
  {
   "cell_type": "markdown",
   "metadata": {},
   "source": [
    "##### 2. Get X data and y data and normalize"
   ]
  },
  {
   "cell_type": "code",
   "execution_count": 2,
   "metadata": {},
   "outputs": [],
   "source": [
    "X_data = shuffled_data.drop(['target'], axis='columns')\n",
    "y_data = shuffled_data['target']\n",
    "\n",
    "#normalization of X_data\n",
    "X_data = (X_data - X_data.min(axis=0))/(X_data.max(axis=0) - X_data.min(axis=0)) "
   ]
  },
  {
   "cell_type": "markdown",
   "metadata": {},
   "source": [
    "##### 3. Divide X data and y data into train and test data"
   ]
  },
  {
   "cell_type": "code",
   "execution_count": 3,
   "metadata": {},
   "outputs": [],
   "source": [
    "X_test, y_test = np.array(X_data[0 : 17]), np.array(y_data[0 : 17])\n",
    "\n",
    "X_train = np.delete(np.array(X_data), [0,1,2,3,4,5,6,7,8,9,10,11,12,13,14,15,16],0)\n",
    "y_train = np.delete(np.array(y_data), [0,1,2,3,4,5,6,7,8,9,10,11,12,13,14,15,16],0)"
   ]
  },
  {
   "cell_type": "markdown",
   "metadata": {},
   "source": [
    "##### 4. Recall : Algorithm"
   ]
  },
  {
   "cell_type": "markdown",
   "metadata": {},
   "source": [
    "![image](./image/image1.png)"
   ]
  },
  {
   "cell_type": "markdown",
   "metadata": {},
   "source": [
    "![image](./image/image2.png)"
   ]
  },
  {
   "cell_type": "markdown",
   "metadata": {},
   "source": [
    "## Step2)  make S and D"
   ]
  },
  {
   "cell_type": "markdown",
   "metadata": {},
   "source": [
    "##### 1. make class matrix"
   ]
  },
  {
   "cell_type": "code",
   "execution_count": 4,
   "metadata": {},
   "outputs": [],
   "source": [
    "X_in_0 = X_train[y_train==0]\n",
    "X_in_1 = X_train[y_train==1]\n",
    "X_in_2 = X_train[y_train==2]"
   ]
  },
  {
   "cell_type": "markdown",
   "metadata": {},
   "source": [
    "##### 2. make S"
   ]
  },
  {
   "cell_type": "code",
   "execution_count": 5,
   "metadata": {},
   "outputs": [],
   "source": [
    "S = np.zeros((len(X_data.T),len(X_data.T)))"
   ]
  },
  {
   "cell_type": "code",
   "execution_count": null,
   "metadata": {},
   "outputs": [],
   "source": []
  },
  {
   "cell_type": "code",
   "execution_count": null,
   "metadata": {},
   "outputs": [],
   "source": []
  },
  {
   "cell_type": "markdown",
   "metadata": {},
   "source": [
    "##### 3. make D"
   ]
  },
  {
   "cell_type": "code",
   "execution_count": 6,
   "metadata": {},
   "outputs": [],
   "source": [
    "D = np.zeros((len(X_data.T),len(X_data.T)))"
   ]
  },
  {
   "cell_type": "code",
   "execution_count": null,
   "metadata": {},
   "outputs": [],
   "source": []
  },
  {
   "cell_type": "code",
   "execution_count": null,
   "metadata": {},
   "outputs": [],
   "source": []
  },
  {
   "cell_type": "markdown",
   "metadata": {},
   "source": [
    "## Step3 ) Return distance matrix"
   ]
  },
  {
   "cell_type": "markdown",
   "metadata": {},
   "source": [
    "##### 1. basic of function"
   ]
  },
  {
   "cell_type": "code",
   "execution_count": 7,
   "metadata": {},
   "outputs": [],
   "source": [
    "def f(x):\n",
    "    y = x*2+1\n",
    "    return y"
   ]
  },
  {
   "cell_type": "code",
   "execution_count": 8,
   "metadata": {},
   "outputs": [
    {
     "data": {
      "text/plain": [
       "5"
      ]
     },
     "execution_count": 8,
     "metadata": {},
     "output_type": "execute_result"
    }
   ],
   "source": [
    "f(2)"
   ]
  },
  {
   "cell_type": "markdown",
   "metadata": {},
   "source": [
    "##### 2. make our GMML functions"
   ]
  },
  {
   "cell_type": "code",
   "execution_count": 9,
   "metadata": {},
   "outputs": [],
   "source": [
    "def Sqrt_Matrix(A):\n",
    "    u, s, v_t = np.linalg.svd(A) \n",
    "    return np.dot(np.dot(u, np.diag(np.sqrt(s))), v_t)\n",
    "        \n",
    "def Return_A(S, D):\n",
    "    both_ends = np.linalg.inv(Sqrt_Matrix(S))\n",
    "    u, s, v_t = np.linalg.svd(np.dot(np.dot(Sqrt_Matrix(S), D), Sqrt_Matrix(S))) \n",
    "    return np.dot(np.dot(both_ends, np.dot(np.dot(u, np.diag(s**(1/2))), v_t)), both_ends)"
   ]
  },
  {
   "cell_type": "markdown",
   "metadata": {},
   "source": [
    "##### (Exercise) make : Mahalanobis distance function\n",
    "Hint) we need x, y, A variable"
   ]
  },
  {
   "cell_type": "markdown",
   "metadata": {},
   "source": [
    "![image](./image/image3.png)"
   ]
  },
  {
   "cell_type": "code",
   "execution_count": 10,
   "metadata": {},
   "outputs": [],
   "source": [
    "#form\n",
    "\n",
    "def Mahala_metric():\n",
    "    return "
   ]
  },
  {
   "cell_type": "code",
   "execution_count": null,
   "metadata": {},
   "outputs": [],
   "source": []
  },
  {
   "cell_type": "markdown",
   "metadata": {},
   "source": [
    "## Step4) Apply to knn model"
   ]
  },
  {
   "cell_type": "markdown",
   "metadata": {},
   "source": [
    "##### 1. Original Knn"
   ]
  },
  {
   "cell_type": "code",
   "execution_count": 11,
   "metadata": {},
   "outputs": [],
   "source": [
    "k=5"
   ]
  },
  {
   "cell_type": "code",
   "execution_count": 12,
   "metadata": {},
   "outputs": [
    {
     "name": "stdout",
     "output_type": "stream",
     "text": [
      "1.0\n"
     ]
    }
   ],
   "source": [
    "y_hat_Euclidean = []\n",
    "for i in range(len(X_test)):\n",
    "    dist = np.sqrt(np.sum((X_train - X_test[i])**2, axis=1))\n",
    "    indices = np.argsort(dist)[:k]\n",
    "    y_near = list(y_train[indices])\n",
    "    y_hat_Euclidean.append(np.argmax([y_near.count(0), y_near.count(1), y_near.count(2)]))\n",
    "    \n",
    "    \n",
    "print(np.mean(y_hat_Euclidean == y_test))"
   ]
  },
  {
   "cell_type": "markdown",
   "metadata": {},
   "source": [
    "##### 2. Knn with GMML"
   ]
  },
  {
   "cell_type": "code",
   "execution_count": null,
   "metadata": {},
   "outputs": [],
   "source": [
    "y_hat_GMML=[]\n",
    "for i in range(len(X_test)):\n",
    "    dist = []\n",
    "    for j in range(len(X_train)):    \n",
    "        dist.append(float(Mahala_metric(Return_A(S, D), np.array(X_test)[i], np.array(X_train)[j])))\n",
    "    indices = np.argsort(dist)[:k]\n",
    "    y_near = list(y_train[indices])\n",
    "    y_hat_GMML.append(np.argmax([y_near.count(0), y_near.count(1), y_near.count(2)]))\n",
    "    \n",
    "    \n",
    "print(np.mean(y_hat_GMML == y_test))"
   ]
  },
  {
   "cell_type": "markdown",
   "metadata": {},
   "source": [
    "#### 3. Compare with original and GMML for many k's"
   ]
  },
  {
   "cell_type": "code",
   "execution_count": 127,
   "metadata": {},
   "outputs": [],
   "source": [
    "accuracy_GMML = []\n",
    "accuracy_Euclidean = []\n",
    "for k in range(2,10):\n",
    "    \n",
    "    y_hat_Euclidean = []\n",
    "    for i in range(len(X_test)):\n",
    "        dist = np.sqrt(np.sum((X_train - X_test[i])**2, axis=1))\n",
    "        indices = np.argsort(dist)[:k]\n",
    "        y_near = list(y_train[indices])\n",
    "        y_hat_Euclidean.append(np.argmax([y_near.count(0), y_near.count(1), y_near.count(2)]))\n",
    "    accuracy_Euclidean.append(np.mean(y_hat_Euclidean == y_test))\n",
    "    \n",
    "    y_hat_GMML=[]\n",
    "    for i in range(len(X_test)):\n",
    "        dist = []\n",
    "        for j in range(len(X_train)):    \n",
    "            dist.append(float(Mahala_metric(Return_A_t(S, D), np.array(X_test)[i], np.array(X_train)[j])))\n",
    "        indices = np.argsort(dist)[:k]\n",
    "        y_near = list(y_train[indices])\n",
    "        y_hat_GMML.append(np.argmax([y_near.count(0), y_near.count(1), y_near.count(2)]))\n",
    "    accuracy_GMML.append(np.mean(y_hat_GMML == y_test))"
   ]
  },
  {
   "cell_type": "markdown",
   "metadata": {},
   "source": [
    "##### plot"
   ]
  },
  {
   "cell_type": "code",
   "execution_count": 128,
   "metadata": {},
   "outputs": [
    {
     "data": {
      "text/plain": [
       "<matplotlib.legend.Legend at 0x23e59d1c710>"
      ]
     },
     "execution_count": 128,
     "metadata": {},
     "output_type": "execute_result"
    },
    {
     "data": {
      "image/png": "[encoded data removed]",
      "text/plain": [
       "<Figure size 432x288 with 1 Axes>"
      ]
     },
     "metadata": {
      "needs_background": "light"
     },
     "output_type": "display_data"
    }
   ],
   "source": [
    "import matplotlib.pyplot as plt\n",
    "plt.plot([i for i in range(2,10)], accuracy_GMML, c='b', ls='--', marker='o', label='GMML')\n",
    "plt.plot([i for i in range(2,10)], accuracy_Euclidean, c='r', ls=':', marker='s', label='Euclidean')\n",
    "plt.xlabel(\"the number of k\")\n",
    "plt.ylabel(\"accuracy\")\n",
    "plt.legend()\n"
   ]
  },
  {
   "cell_type": "code",
   "execution_count": null,
   "metadata": {},
   "outputs": [],
   "source": []
  }
 ],
 "metadata": {
  "kernelspec": {
   "display_name": "Python 3",
   "language": "python",
   "name": "python3"
  },
  "language_info": {
   "codemirror_mode": {
    "name": "ipython",
    "version": 3
   },
   "file_extension": ".py",
   "mimetype": "text/x-python",
   "name": "python",
   "nbconvert_exporter": "python",
   "pygments_lexer": "ipython3",
   "version": "3.7.1"
  }
 },
 "nbformat": 4,
 "nbformat_minor": 2
}
