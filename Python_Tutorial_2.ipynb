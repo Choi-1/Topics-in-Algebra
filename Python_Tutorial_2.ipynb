{
 "cells": [
  {
   "cell_type": "markdown",
   "metadata": {
    "collapsed": true
   },
   "source": [
    "# Python Tutorial"
   ]
  },
  {
   "cell_type": "markdown",
   "metadata": {
    "collapsed": true
   },
   "source": [
    "## 1. Data types and its operations"
   ]
  },
  {
   "cell_type": "markdown",
   "metadata": {
    "collapsed": true
   },
   "source": [
    "__Number__"
   ]
  },
  {
   "cell_type": "code",
   "execution_count": 2,
   "metadata": {},
   "outputs": [
    {
     "name": "stdout",
     "output_type": "stream",
     "text": [
      "a+b: 7\n",
      "a-b: -1\n",
      "a*b: 12\n",
      "a**b: 81\n",
      "a/b: 0.75\n",
      "a//b: 0\n",
      "a%b: 3\n"
     ]
    }
   ],
   "source": [
    "a=3\n",
    "b=4\n",
    "print('a+b:',a+b)#Addition\n",
    "print('a-b:',a-b)#Subtraction\n",
    "print('a*b:',a*b)#Multiplication\n",
    "print('a**b:',a**b)#Multiplier\n",
    "print('a/b:',a/b)#Division\n",
    "print('a//b:',a//b)#Quotient\n",
    "print('a%b:',a%b)#Remainder"
   ]
  },
  {
   "cell_type": "markdown",
   "metadata": {
    "collapsed": true
   },
   "source": [
    "__String__\n",
    "\n"
   ]
  },
  {
   "cell_type": "code",
   "execution_count": 3,
   "metadata": {},
   "outputs": [
    {
     "name": "stdout",
     "output_type": "stream",
     "text": [
      "s:  Python is fun!\n",
      "head + tail:  Python is fun!\n",
      "head*3:  PythonPythonPython\n",
      "Length of s:  14\n"
     ]
    }
   ],
   "source": [
    "head = \"Python\"\n",
    "tail = \" is fun!\"\n",
    "s=head + tail\n",
    "print('s: ',s)\n",
    "print('head + tail: ', head + tail)\n",
    "print('head*3: ',head*3)\n",
    "print('Length of s: ',len(s))"
   ]
  },
  {
   "cell_type": "markdown",
   "metadata": {
    "collapsed": true
   },
   "source": [
    "String indexing"
   ]
  },
  {
   "cell_type": "code",
   "execution_count": 4,
   "metadata": {
    "collapsed": true
   },
   "outputs": [],
   "source": [
    "a = \"Life is too short, You need Python\""
   ]
  },
  {
   "cell_type": "markdown",
   "metadata": {
    "collapsed": true
   },
   "source": [
    "Python counts numbers from zero.<br/>\n",
    "a[0]:'L', a[1]:'i', a[2]:'f', a[3]:'e', a[4]:' ', ..."
   ]
  },
  {
   "cell_type": "code",
   "execution_count": 5,
   "metadata": {},
   "outputs": [
    {
     "name": "stdout",
     "output_type": "stream",
     "text": [
      "a[0]:  L\n",
      "a[5]:  i\n",
      "a[-1]:  n\n",
      "a[-3]:  h\n"
     ]
    }
   ],
   "source": [
    "print('a[0]: ' ,a[0])\n",
    "print('a[5]: ' ,a[5])\n",
    "print('a[-1]: ' ,a[-1])\n",
    "print('a[-3]: ' ,a[-3])"
   ]
  },
  {
   "cell_type": "code",
   "execution_count": 6,
   "metadata": {},
   "outputs": [
    {
     "name": "stdout",
     "output_type": "stream",
     "text": [
      "Life\n"
     ]
    }
   ],
   "source": [
    "b = a[0] + a[1] + a[2] + a[3]\n",
    "print(b)"
   ]
  },
  {
   "cell_type": "code",
   "execution_count": 7,
   "metadata": {},
   "outputs": [
    {
     "name": "stdout",
     "output_type": "stream",
     "text": [
      "a[0:2]:  Li\n",
      "a[5:7]:  is\n",
      "a[12:17]:  short\n",
      "a[19:]:  You need Python\n",
      "a[:17]:  Life is too short\n"
     ]
    }
   ],
   "source": [
    "print('a[0:2]: ' ,a[0:2])# From 0 to 1\n",
    "print('a[5:7]: ' ,a[5:7])# From 5 to 6\n",
    "print('a[12:17]: ' ,a[12:17])# From 12 to 16\n",
    "print('a[19:]: ' ,a[19:])# From 19 to the end\n",
    "print('a[:17]: ' ,a[:17])# From the start to 16"
   ]
  },
  {
   "cell_type": "markdown",
   "metadata": {},
   "source": [
    "__List__"
   ]
  },
  {
   "cell_type": "markdown",
   "metadata": {},
   "source": [
    "When creating a list, enclose it in square brackets ([]) as shown above and separate each yaw value with a comma (,)."
   ]
  },
  {
   "cell_type": "code",
   "execution_count": 8,
   "metadata": {
    "collapsed": true
   },
   "outputs": [],
   "source": [
    "odd = [1, 3, 5, 7, 9]"
   ]
  },
  {
   "cell_type": "markdown",
   "metadata": {},
   "source": [
    "A list can be an empty list ([]), containing nothing like a, a number as a b like b, or a string as c like c. You can also have the numbers and strings together as d, and the list itself as e. That is, you can include any data type in the list."
   ]
  },
  {
   "cell_type": "code",
   "execution_count": 9,
   "metadata": {
    "collapsed": true
   },
   "outputs": [],
   "source": [
    "a = []\n",
    "b = [1, 2, 3]\n",
    "c = ['Life', 'is', 'too', 'short']\n",
    "d = [1, 2, 'Life', 'is']\n",
    "e = [1, 2, ['Life', 'is']]"
   ]
  },
  {
   "cell_type": "code",
   "execution_count": 10,
   "metadata": {},
   "outputs": [
    {
     "name": "stdout",
     "output_type": "stream",
     "text": [
      "e[0]:  1\n",
      "e[2]:  ['Life', 'is']\n",
      "e[2][0]:  Life\n",
      "e[0:2]:  [1, 2]\n"
     ]
    }
   ],
   "source": [
    "print('e[0]: ', e[0])\n",
    "print('e[2]: ', e[2])\n",
    "print('e[2][0]: ', e[2][0])\n",
    "print('e[0:2]: ', e[0:2])"
   ]
  },
  {
   "cell_type": "code",
   "execution_count": 11,
   "metadata": {},
   "outputs": [
    {
     "name": "stdout",
     "output_type": "stream",
     "text": [
      "a+b:  [1, 2, 3, 4, 5, 6]\n",
      "a*3:  [1, 2, 3, 1, 2, 3, 1, 2, 3]\n",
      "Length of a: 3\n"
     ]
    }
   ],
   "source": [
    "a = [1, 2, 3]\n",
    "b = [4, 5, 6]\n",
    "print('a+b: ', a + b)\n",
    "print('a*3: ', a*3)\n",
    "print('Length of a:', len(a))"
   ]
  },
  {
   "cell_type": "code",
   "execution_count": null,
   "metadata": {
    "collapsed": true
   },
   "outputs": [],
   "source": []
  },
  {
   "cell_type": "markdown",
   "metadata": {},
   "source": [
    "## 2. if Statement"
   ]
  },
  {
   "cell_type": "markdown",
   "metadata": {
    "collapsed": true
   },
   "source": [
    "__Basic Structure of an if Statement__"
   ]
  },
  {
   "cell_type": "markdown",
   "metadata": {},
   "source": [
    "__if__ Conditional statement1 __:__<br/>\n",
    ">Sentence 1 <br/>\n",
    "Sentence 2 <br/>\n",
    "\n",
    "__elif__ Conditional statement2 __ :__\n",
    "> Sentence 3 <br/>\n",
    "Sentence 4\n",
    "\n",
    "\n",
    "__else :__\n",
    "> Sentence 3 <br/>\n",
    "Sentence 4\n"
   ]
  },
  {
   "cell_type": "code",
   "execution_count": 12,
   "metadata": {},
   "outputs": [
    {
     "name": "stdout",
     "output_type": "stream",
     "text": [
      "a가 b보다 크다.\n"
     ]
    }
   ],
   "source": [
    "a = 100\n",
    "b = 10\n",
    " \n",
    "if a==b:\n",
    "    print('a와 b가 같다.')\n",
    "elif a<b:\n",
    "    print('a가 b보다 작다.')\n",
    "else:\n",
    "    print ('a가 b보다 크다.')\n"
   ]
  },
  {
   "cell_type": "markdown",
   "metadata": {},
   "source": [
    "## 3. for Statement"
   ]
  },
  {
   "cell_type": "markdown",
   "metadata": {},
   "source": [
    "__Basic Structure of an for Statement__"
   ]
  },
  {
   "cell_type": "markdown",
   "metadata": {},
   "source": [
    "__for__ variable __in__ list(or tuple, string) __:__<br/>\n",
    ">Sentence 1 <br/>\n",
    "Sentence 2 <br/>\n"
   ]
  },
  {
   "cell_type": "code",
   "execution_count": 13,
   "metadata": {},
   "outputs": [
    {
     "name": "stdout",
     "output_type": "stream",
     "text": [
      "one\n",
      "two\n",
      "three\n"
     ]
    }
   ],
   "source": [
    "test_list = ['one', 'two', 'three'] \n",
    "for i in test_list: \n",
    "     print(i)"
   ]
  },
  {
   "cell_type": "markdown",
   "metadata": {},
   "source": [
    "The first element of the list, 'one', is first assigned to the variable i and then the 'print (i)' statement is executed. Next, after the second element 'two' is assigned to the i variable, it executes the 'print (i)' statement and repeats it until the last element in the list."
   ]
  },
  {
   "cell_type": "markdown",
   "metadata": {},
   "source": [
    "Example)<br/> \n",
    "A total of five students took the test and if the test score is over 60, they pass. Otherwise, they fail. Show me the result of pass or fail"
   ]
  },
  {
   "cell_type": "code",
   "execution_count": 14,
   "metadata": {},
   "outputs": [
    {
     "name": "stdout",
     "output_type": "stream",
     "text": [
      "The first student pass\n",
      "The second student fails\n",
      "The third student pass\n",
      "The fourth student fails\n",
      "The fifth student pass\n"
     ]
    }
   ],
   "source": [
    "score = [90, 25, 67, 45, 80]\n",
    "order=['first','second','third','fourth','fifth']\n",
    "\n",
    "number = 0 \n",
    "for s in score: \n",
    "    if s >= 60: \n",
    "        print('The',order[number],\"student pass\")\n",
    "    else: \n",
    "        print('The',order[number],\"student fails\")\n",
    "        \n",
    "    number = number +1"
   ]
  },
  {
   "cell_type": "markdown",
   "metadata": {},
   "source": [
    "__Frequently used 'range' functions with for statements__"
   ]
  },
  {
   "cell_type": "code",
   "execution_count": 15,
   "metadata": {},
   "outputs": [
    {
     "name": "stdout",
     "output_type": "stream",
     "text": [
      "a: range(1, 11)\n",
      "b: range(0, 11)\n",
      "list(a):  [1, 2, 3, 4, 5, 6, 7, 8, 9, 10]\n"
     ]
    }
   ],
   "source": [
    "a = range(1, 11)\n",
    "b = range(11)\n",
    "print('a:',a)\n",
    "print('b:',b)\n",
    "print('list(a): ', list(a))"
   ]
  },
  {
   "cell_type": "code",
   "execution_count": 16,
   "metadata": {},
   "outputs": [
    {
     "name": "stdout",
     "output_type": "stream",
     "text": [
      "1\n",
      "2\n",
      "3\n",
      "4\n",
      "5\n",
      "6\n",
      "7\n",
      "8\n",
      "9\n",
      "10\n"
     ]
    }
   ],
   "source": [
    "for i in range(1, 11):\n",
    "    print(i)"
   ]
  },
  {
   "cell_type": "code",
   "execution_count": 18,
   "metadata": {},
   "outputs": [
    {
     "name": "stdout",
     "output_type": "stream",
     "text": [
      "55\n"
     ]
    }
   ],
   "source": [
    "add=0\n",
    "for i in range(1,11):\n",
    "    add=add+i\n",
    "\n",
    "print(add)"
   ]
  },
  {
   "cell_type": "markdown",
   "metadata": {},
   "source": [
    "Example)<br/>\n",
    "Make the multiplication table two steps"
   ]
  },
  {
   "cell_type": "code",
   "execution_count": 19,
   "metadata": {},
   "outputs": [
    {
     "name": "stdout",
     "output_type": "stream",
     "text": [
      "2*1 = 2\n",
      "2*2 = 4\n",
      "2*3 = 6\n",
      "2*4 = 8\n",
      "2*5 = 10\n",
      "2*6 = 12\n",
      "2*7 = 14\n",
      "2*8 = 16\n",
      "2*9 = 18\n"
     ]
    }
   ],
   "source": [
    "for i in range(1,10):\n",
    "    #print('2*',i,'=',2*i)\n",
    "    print(\"2*{} = {}\".format(i,2*i))"
   ]
  },
  {
   "cell_type": "markdown",
   "metadata": {},
   "source": [
    "__Example)__<br/>\n",
    "Calculate the total admission fee.\n",
    "    - 20 years old or older: admission fee is 8,000\n",
    "    - 10 years old or older, 19 years old or younger: admission fee is 5,000\n",
    "    - Under 10 years old: admission fee is 2,500\n",
    "    \n",
    "    ages=[22, 21, 17, 32, 4, 28, 19, 8]"
   ]
  },
  {
   "cell_type": "code",
   "execution_count": null,
   "metadata": {
    "collapsed": true
   },
   "outputs": [],
   "source": []
  }
 ],
 "metadata": {
  "kernelspec": {
   "display_name": "Python 3",
   "language": "python",
   "name": "python3"
  },
  "language_info": {
   "codemirror_mode": {
    "name": "ipython",
    "version": 3
   },
   "file_extension": ".py",
   "mimetype": "text/x-python",
   "name": "python",
   "nbconvert_exporter": "python",
   "pygments_lexer": "ipython3",
   "version": "3.6.3"
  }
 },
 "nbformat": 4,
 "nbformat_minor": 2
}
