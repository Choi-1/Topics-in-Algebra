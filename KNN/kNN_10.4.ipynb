{
 "cells": [
  {
   "cell_type": "code",
   "execution_count": 56,
   "metadata": {},
   "outputs": [],
   "source": [
    "import numpy as np\n",
    "\n",
    "X_train = np.load('X_train.npy')\n",
    "y_train = np.load('y_train.npy')\n",
    "X_test = np.load('X_test.npy')\n",
    "y_test = np.load('y_test.npy')"
   ]
  },
  {
   "cell_type": "code",
   "execution_count": 57,
   "metadata": {},
   "outputs": [
    {
     "data": {
      "text/plain": [
       "array([[5.9, 3. ],\n",
       "       [5.3, 3.7],\n",
       "       [4.8, 3.4],\n",
       "       [5.5, 3.5],\n",
       "       [4.6, 3.6],\n",
       "       [4.8, 3. ],\n",
       "       [6.1, 2.6],\n",
       "       [6.9, 3.1],\n",
       "       [5.1, 3.8],\n",
       "       [6.7, 2.5],\n",
       "       [6.5, 3.2],\n",
       "       [4.6, 3.4],\n",
       "       [5. , 2. ],\n",
       "       [6. , 2.2],\n",
       "       [6. , 2.2],\n",
       "       [4.5, 2.3],\n",
       "       [5.7, 3.8],\n",
       "       [6.9, 3.1],\n",
       "       [6.4, 3.2],\n",
       "       [4.4, 3.2]])"
      ]
     },
     "execution_count": 57,
     "metadata": {},
     "output_type": "execute_result"
    }
   ],
   "source": [
    "X_test"
   ]
  },
  {
   "cell_type": "code",
   "execution_count": 3,
   "metadata": {
    "scrolled": false
   },
   "outputs": [
    {
     "data": {
      "image/png": "[encoded data removed]",
      "text/plain": [
       "<Figure size 432x288 with 1 Axes>"
      ]
     },
     "metadata": {},
     "output_type": "display_data"
    }
   ],
   "source": [
    "import matplotlib.pyplot as plt\n",
    "\n",
    "plt.figure()\n",
    "plt.scatter(X_train[y_train==0][:,0], X_train[y_train==0][:,1], c='b')\n",
    "plt.scatter(X_train[y_train==1][:,0], X_train[y_train==1][:,1], c='r')\n",
    "plt.scatter(X_train[y_train==2][:,0], X_train[y_train==2][:,1], c='y')\n",
    "plt.scatter(X_test[0], X_test[1], c='g')\n",
    "plt.grid()\n",
    "plt.show()"
   ]
  },
  {
   "cell_type": "markdown",
   "metadata": {},
   "source": [
    "## 2. Find distance between train data and test data"
   ]
  },
  {
   "cell_type": "markdown",
   "metadata": {},
   "source": [
    "#### (method 1) find distance using list"
   ]
  },
  {
   "cell_type": "markdown",
   "metadata": {},
   "source": [
    "###### append in list"
   ]
  },
  {
   "cell_type": "code",
   "execution_count": 3,
   "metadata": {
    "scrolled": false
   },
   "outputs": [
    {
     "name": "stdout",
     "output_type": "stream",
     "text": [
      "[1, 2]\n",
      "[1, 2, 3]\n"
     ]
    }
   ],
   "source": [
    "a = [1,2]\n",
    "print(a)\n",
    "\n",
    "a.append(3)\n",
    "print(a)"
   ]
  },
  {
   "cell_type": "markdown",
   "metadata": {},
   "source": [
    "###### Compute distance using 'append'"
   ]
  },
  {
   "cell_type": "code",
   "execution_count": 12,
   "metadata": {},
   "outputs": [
    {
     "name": "stdout",
     "output_type": "stream",
     "text": [
      "[1.3038404810405295, 0.49999999999999983, 1.1045361017187258, 1.5132745950421556, 1.3416407864998738, 1.118033988749895, 1.431782106327635, 0.6708203932499374, 1.2083045973594568, 2.06155281280883, 1.0, 1.2041594578792292, 0.8544003745317529, 1.1313708498984758, 1.2999999999999998, 1.2806248474865696, 1.8357559750685815, 0.6324555320336757, 0.9486832980505137, 0.7810249675906652, 1.2806248474865696, 0.9055385138137416, 1.1313708498984758, 1.2529964086141663, 0.4472135954999583, 1.2529964086141672, 0.7810249675906652, 1.1045361017187258, 1.6763054614240207, 1.5264337522473745, 1.1401754250991376, 1.16619037896906, 0.6403124237432848, 0.8944271909999155, 0.8246211251235319, 0.7211102550927976, 0.6403124237432848, 0.8944271909999155, 2.2, 0.7999999999999998, 0.31622776601683783, 1.22065556157337, 0.6708203932499374, 1.431782106327635, 1.6124515496597098, 1.22065556157337, 1.4866068747318502, 1.1045361017187258, 1.360147050873544, 1.118033988749895, 1.414213562373095, 1.1045361017187258, 0.49999999999999983, 0.806225774829855, 1.140175425099138, 0.31622776601683783, 0.6082762530298225, 0.8544003745317529, 1.6552945357246849, 1.3892443989449805, 2.33238075793812, 1.4317821063276355, 1.3038404810405295, 1.0816653826391966, 1.2165525060596436, 0.6000000000000005, 1.1313708498984758, 2.23606797749979, 0.9899494936611665, 2.1540659228538015, 1.2041594578792292, 1.6155494421403511, 1.0630145812734646, 1.22065556157337, 1.6124515496597092, 1.004987562112089, 0.6000000000000005, 0.9848857801796107, 2.0, 0.8062257748298548, 1.3152946437965904, 1.0630145812734648, 1.0, 1.140175425099138, 1.2206555615733703, 1.30384048104053, 0.22360679774997896, 1.0770329614269007, 1.0295630140987, 1.2529964086141663, 0.49999999999999983, 1.16619037896906, 1.1045361017187258, 1.5811388300841893, 0.761577310586391, 0.806225774829855, 1.2041594578792296, 1.2806248474865696, 0.31622776601683766, 1.414213562373095, 0.7810249675906659, 0.9848857801796101, 0.58309518948453, 1.004987562112089, 1.1999999999999997, 0.7211102550927982, 1.2206555615733703, 1.431782106327635, 1.0630145812734646, 0.8062257748298548, 1.272792206135785, 1.0630145812734646, 0.761577310586391, 1.5264337522473745, 1.61245154965971, 1.5132745950421556, 1.118033988749895, 1.7, 0.8602325267042628, 1.1313708498984758, 0.9219544457292886, 0.7280109889280519, 1.0770329614269007, 1.9723082923316022, 0.8999999999999999, 0.58309518948453, 0.6000000000000005, 1.16619037896906, 1.6155494421403511, 0.9219544457292886]\n"
     ]
    }
   ],
   "source": [
    "dist = []\n",
    "for i in range(len(X_train)):\n",
    "    dist.append(np.sqrt(np.sum((X_train[i] - X_test)**2)))\n",
    "print(dist)"
   ]
  },
  {
   "cell_type": "code",
   "execution_count": 7,
   "metadata": {},
   "outputs": [
    {
     "name": "stdout",
     "output_type": "stream",
     "text": [
      "[5.4 3.4] [5.7 3.8]\n"
     ]
    }
   ],
   "source": [
    "print(X_train[1], X_test)"
   ]
  },
  {
   "cell_type": "code",
   "execution_count": null,
   "metadata": {},
   "outputs": [],
   "source": []
  },
  {
   "cell_type": "code",
   "execution_count": 4,
   "metadata": {},
   "outputs": [],
   "source": [
    "#실습 (+np.sum axis 홈페이지)"
   ]
  },
  {
   "cell_type": "code",
   "execution_count": 5,
   "metadata": {
    "scrolled": true
   },
   "outputs": [
    {
     "data": {
      "text/plain": [
       "1.3038404810405295"
      ]
     },
     "execution_count": 5,
     "metadata": {},
     "output_type": "execute_result"
    }
   ],
   "source": [
    "# other way to evaluate distance\n",
    "np.linalg.norm(X_train[0]-X_test)"
   ]
  },
  {
   "cell_type": "code",
   "execution_count": 6,
   "metadata": {},
   "outputs": [],
   "source": [
    "dist = []\n",
    "for i in range(len(X_train)):\n",
    "    dist.append(np.sqrt(np.sum((X_train[i] - X_test)**2)))\n",
    "    #dist.append(np.linalg.norm(X_train[i] - X_test))"
   ]
  },
  {
   "cell_type": "markdown",
   "metadata": {},
   "source": [
    "![image](./image/image4.png)"
   ]
  },
  {
   "cell_type": "markdown",
   "metadata": {},
   "source": [
    "#### (method 2) find distance using broadcasting in numpy"
   ]
  },
  {
   "cell_type": "markdown",
   "metadata": {},
   "source": [
    "![image](./image/image5.png)"
   ]
  },
  {
   "cell_type": "code",
   "execution_count": 24,
   "metadata": {},
   "outputs": [],
   "source": [
    "dist = np.sqrt(np.sum((X_train - X_test)**2, axis=1))"
   ]
  },
  {
   "cell_type": "code",
   "execution_count": 21,
   "metadata": {},
   "outputs": [
    {
     "data": {
      "text/plain": [
       "130"
      ]
     },
     "execution_count": 21,
     "metadata": {},
     "output_type": "execute_result"
    }
   ],
   "source": [
    "len(np.sum((X_train - X_test)**2, axis=1))"
   ]
  },
  {
   "cell_type": "code",
   "execution_count": 7,
   "metadata": {},
   "outputs": [],
   "source": [
    "#실습\n",
    "#a = np.sqrt(np.sum((X_train - X_test)**2, axis=1))\n",
    "#a==dist"
   ]
  },
  {
   "cell_type": "code",
   "execution_count": 8,
   "metadata": {},
   "outputs": [],
   "source": [
    "#broadcasting in numpy\n",
    "dist = np.sqrt(np.sum((X_train - X_test)**2, axis=1)) "
   ]
  },
  {
   "cell_type": "code",
   "execution_count": 25,
   "metadata": {},
   "outputs": [
    {
     "name": "stdout",
     "output_type": "stream",
     "text": [
      "130 2.33238075793812 0.22360679774997896\n"
     ]
    }
   ],
   "source": [
    "print(len(dist), max(dist), min(dist))"
   ]
  },
  {
   "cell_type": "markdown",
   "metadata": {},
   "source": [
    "## 3-1. Find its closest data (k=1)"
   ]
  },
  {
   "cell_type": "code",
   "execution_count": 26,
   "metadata": {
    "scrolled": false
   },
   "outputs": [
    {
     "name": "stdout",
     "output_type": "stream",
     "text": [
      "86\n"
     ]
    }
   ],
   "source": [
    "print(np.argmin(dist))"
   ]
  },
  {
   "cell_type": "code",
   "execution_count": 27,
   "metadata": {},
   "outputs": [
    {
     "data": {
      "text/plain": [
       "array([5.8, 4. ])"
      ]
     },
     "execution_count": 27,
     "metadata": {},
     "output_type": "execute_result"
    }
   ],
   "source": [
    "X_train[86]"
   ]
  },
  {
   "cell_type": "code",
   "execution_count": 28,
   "metadata": {},
   "outputs": [],
   "source": [
    "a = np.array([10,2,3])"
   ]
  },
  {
   "cell_type": "code",
   "execution_count": 29,
   "metadata": {},
   "outputs": [
    {
     "data": {
      "text/plain": [
       "2"
      ]
     },
     "execution_count": 29,
     "metadata": {},
     "output_type": "execute_result"
    }
   ],
   "source": [
    "np.min(a)"
   ]
  },
  {
   "cell_type": "code",
   "execution_count": 30,
   "metadata": {},
   "outputs": [
    {
     "data": {
      "text/plain": [
       "1"
      ]
     },
     "execution_count": 30,
     "metadata": {},
     "output_type": "execute_result"
    }
   ],
   "source": [
    "np.argmin(a)"
   ]
  },
  {
   "cell_type": "markdown",
   "metadata": {},
   "source": [
    "#### plot in 2 dimensional Euclidean space"
   ]
  },
  {
   "cell_type": "code",
   "execution_count": 11,
   "metadata": {},
   "outputs": [
    {
     "data": {
      "image/png": "[encoded data removed]",
      "text/plain": [
       "<Figure size 432x288 with 1 Axes>"
      ]
     },
     "metadata": {},
     "output_type": "display_data"
    }
   ],
   "source": [
    "import matplotlib.pyplot as plt\n",
    "\n",
    "plt.figure()\n",
    "plt.scatter(X_train[y_train==0][:,0], X_train[y_train==0][:,1], c='b')\n",
    "plt.scatter(X_train[y_train==1][:,0], X_train[y_train==1][:,1], c='r')\n",
    "plt.scatter(X_train[y_train==2][:,0], X_train[y_train==2][:,1], c='y')\n",
    "plt.scatter(X_test[0], X_test[1], c='g')\n",
    "plt.scatter(X_train[86][0], X_train[86][1], c='m')\n",
    "plt.grid()\n",
    "plt.show()"
   ]
  },
  {
   "cell_type": "markdown",
   "metadata": {},
   "source": [
    "## 4-1. Classify label of test data"
   ]
  },
  {
   "cell_type": "code",
   "execution_count": 31,
   "metadata": {},
   "outputs": [
    {
     "data": {
      "text/plain": [
       "0.0"
      ]
     },
     "execution_count": 31,
     "metadata": {},
     "output_type": "execute_result"
    }
   ],
   "source": [
    "y_train[86]"
   ]
  },
  {
   "cell_type": "code",
   "execution_count": 32,
   "metadata": {
    "scrolled": true
   },
   "outputs": [
    {
     "name": "stdout",
     "output_type": "stream",
     "text": [
      "0.0\n"
     ]
    }
   ],
   "source": [
    "y_hat = y_train[86]\n",
    "print(y_hat)"
   ]
  },
  {
   "cell_type": "markdown",
   "metadata": {},
   "source": [
    "#### Check the answer"
   ]
  },
  {
   "cell_type": "code",
   "execution_count": 33,
   "metadata": {
    "scrolled": true
   },
   "outputs": [
    {
     "data": {
      "text/plain": [
       "True"
      ]
     },
     "execution_count": 33,
     "metadata": {},
     "output_type": "execute_result"
    }
   ],
   "source": [
    "y_hat == y_test"
   ]
  },
  {
   "cell_type": "code",
   "execution_count": 34,
   "metadata": {},
   "outputs": [
    {
     "data": {
      "text/plain": [
       "0.0"
      ]
     },
     "execution_count": 34,
     "metadata": {},
     "output_type": "execute_result"
    }
   ],
   "source": [
    "y_test"
   ]
  },
  {
   "cell_type": "markdown",
   "metadata": {},
   "source": [
    "## 3-2. Find its 3-nearest data (k=3)"
   ]
  },
  {
   "cell_type": "markdown",
   "metadata": {},
   "source": [
    "#### argsort in numpy"
   ]
  },
  {
   "cell_type": "code",
   "execution_count": 35,
   "metadata": {
    "scrolled": true
   },
   "outputs": [
    {
     "name": "stdout",
     "output_type": "stream",
     "text": [
      "[10 20 30] [2 0 1]\n"
     ]
    }
   ],
   "source": [
    "a = np.array([20,30,10])\n",
    "\n",
    "print(np.sort(a), np.argsort(a))"
   ]
  },
  {
   "cell_type": "code",
   "execution_count": 37,
   "metadata": {},
   "outputs": [
    {
     "data": {
      "text/plain": [
       "array([2, 0, 1], dtype=int64)"
      ]
     },
     "execution_count": 37,
     "metadata": {},
     "output_type": "execute_result"
    }
   ],
   "source": [
    "np.argsort(a)"
   ]
  },
  {
   "cell_type": "markdown",
   "metadata": {},
   "source": [
    "#### Find 3-nearest data"
   ]
  },
  {
   "cell_type": "code",
   "execution_count": 41,
   "metadata": {},
   "outputs": [
    {
     "data": {
      "text/plain": [
       "array([86, 98, 40], dtype=int64)"
      ]
     },
     "execution_count": 41,
     "metadata": {},
     "output_type": "execute_result"
    }
   ],
   "source": [
    "np.argsort(dist)[:3]"
   ]
  },
  {
   "cell_type": "code",
   "execution_count": 43,
   "metadata": {},
   "outputs": [
    {
     "name": "stdout",
     "output_type": "stream",
     "text": [
      "0.0 0.0 0.0\n"
     ]
    }
   ],
   "source": [
    "print(y_train[86], y_train[98], y_train[40])"
   ]
  },
  {
   "cell_type": "code",
   "execution_count": 44,
   "metadata": {
    "scrolled": true
   },
   "outputs": [
    {
     "name": "stdout",
     "output_type": "stream",
     "text": [
      "[0. 0. 0.] <class 'numpy.ndarray'>\n"
     ]
    }
   ],
   "source": [
    "indices = np.argsort(dist)[:3]\n",
    "\n",
    "y_near = y_train[indices]\n",
    "print(y_near, type(y_near))"
   ]
  },
  {
   "cell_type": "markdown",
   "metadata": {},
   "source": [
    "#### Plot in 2 dimensional Euclidean space"
   ]
  },
  {
   "cell_type": "code",
   "execution_count": 16,
   "metadata": {},
   "outputs": [
    {
     "data": {
      "image/png": "[encoded data removed]",
      "text/plain": [
       "<Figure size 432x288 with 1 Axes>"
      ]
     },
     "metadata": {},
     "output_type": "display_data"
    }
   ],
   "source": [
    "import matplotlib.pyplot as plt\n",
    "\n",
    "plt.figure()\n",
    "plt.scatter(X_train[y_train==0][:,0], X_train[y_train==0][:,1], c='b')\n",
    "plt.scatter(X_train[y_train==1][:,0], X_train[y_train==1][:,1], c='r')\n",
    "plt.scatter(X_train[y_train==2][:,0], X_train[y_train==2][:,1], c='y')\n",
    "plt.scatter(X_test[0], X_test[1], c='g')\n",
    "plt.scatter(X_train[86][0], X_train[86][1], c='m')\n",
    "plt.scatter(X_train[98][0], X_train[98][1], c='m')\n",
    "plt.scatter(X_train[40][0], X_train[40][1], c='m')\n",
    "plt.grid()\n",
    "plt.show()"
   ]
  },
  {
   "cell_type": "markdown",
   "metadata": {},
   "source": [
    "## 4-2. Classify label of test data"
   ]
  },
  {
   "cell_type": "markdown",
   "metadata": {},
   "source": [
    "#### count in list"
   ]
  },
  {
   "cell_type": "code",
   "execution_count": 46,
   "metadata": {},
   "outputs": [
    {
     "data": {
      "text/plain": [
       "1"
      ]
     },
     "execution_count": 46,
     "metadata": {},
     "output_type": "execute_result"
    }
   ],
   "source": [
    "a = [1,1,1,2,3]\n",
    "a.count(3)"
   ]
  },
  {
   "cell_type": "markdown",
   "metadata": {},
   "source": [
    "#### the number of labels of 3-nearest data"
   ]
  },
  {
   "cell_type": "code",
   "execution_count": 52,
   "metadata": {},
   "outputs": [
    {
     "data": {
      "text/plain": [
       "0"
      ]
     },
     "execution_count": 52,
     "metadata": {},
     "output_type": "execute_result"
    }
   ],
   "source": [
    "y_near = list(y_near)\n",
    "y_near.count(2)"
   ]
  },
  {
   "cell_type": "code",
   "execution_count": 18,
   "metadata": {
    "scrolled": false
   },
   "outputs": [
    {
     "data": {
      "text/plain": [
       "(3, 0, 0)"
      ]
     },
     "execution_count": 18,
     "metadata": {},
     "output_type": "execute_result"
    }
   ],
   "source": [
    "y_near = list(y_near)\n",
    "y_near.count(0), y_near.count(1), y_near.count(2)"
   ]
  },
  {
   "cell_type": "markdown",
   "metadata": {},
   "source": [
    "#### expecting label of test data"
   ]
  },
  {
   "cell_type": "code",
   "execution_count": 53,
   "metadata": {
    "scrolled": false
   },
   "outputs": [
    {
     "data": {
      "text/plain": [
       "0"
      ]
     },
     "execution_count": 53,
     "metadata": {},
     "output_type": "execute_result"
    }
   ],
   "source": [
    "np.argmax([y_near.count(0), y_near.count(1), y_near.count(2)])"
   ]
  },
  {
   "cell_type": "code",
   "execution_count": 54,
   "metadata": {},
   "outputs": [
    {
     "name": "stdout",
     "output_type": "stream",
     "text": [
      "0\n"
     ]
    }
   ],
   "source": [
    "y_hat = np.argmax([y_near.count(0), y_near.count(1), y_near.count(2)])\n",
    "print(y_hat)"
   ]
  },
  {
   "cell_type": "markdown",
   "metadata": {},
   "source": [
    "#### Check the answer"
   ]
  },
  {
   "cell_type": "code",
   "execution_count": 55,
   "metadata": {
    "scrolled": true
   },
   "outputs": [
    {
     "data": {
      "text/plain": [
       "True"
      ]
     },
     "execution_count": 55,
     "metadata": {},
     "output_type": "execute_result"
    }
   ],
   "source": [
    "y_hat == y_test"
   ]
  },
  {
   "cell_type": "markdown",
   "metadata": {},
   "source": [
    "## Exercise"
   ]
  },
  {
   "cell_type": "markdown",
   "metadata": {},
   "source": [
    "#### find accuracy with 20 test data (k=3)"
   ]
  },
  {
   "cell_type": "code",
   "execution_count": 22,
   "metadata": {},
   "outputs": [],
   "source": [
    "X_train = np.load('X_train.npy')\n",
    "y_train = np.load('y_train.npy')\n",
    "X_test = np.load('X_test.npy')\n",
    "y_test = np.load('y_test.npy')"
   ]
  },
  {
   "cell_type": "markdown",
   "metadata": {},
   "source": [
    "##### (1) find all of classes of 20 test data"
   ]
  },
  {
   "cell_type": "markdown",
   "metadata": {},
   "source": [
    "##### (2) find accuracy"
   ]
  },
  {
   "cell_type": "code",
   "execution_count": null,
   "metadata": {},
   "outputs": [],
   "source": []
  }
 ],
 "metadata": {
  "kernelspec": {
   "display_name": "Python 3",
   "language": "python",
   "name": "python3"
  },
  "language_info": {
   "codemirror_mode": {
    "name": "ipython",
    "version": 3
   },
   "file_extension": ".py",
   "mimetype": "text/x-python",
   "name": "python",
   "nbconvert_exporter": "python",
   "pygments_lexer": "ipython3",
   "version": "3.5.5"
  }
 },
 "nbformat": 4,
 "nbformat_minor": 2
}
