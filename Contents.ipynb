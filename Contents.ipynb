{
 "cells": [
  {
   "cell_type": "markdown",
   "metadata": {},
   "source": [
    "# Contents"
   ]
  },
  {
   "cell_type": "markdown",
   "metadata": {},
   "source": [
    "1. Introduction of Machine Learning\n",
    "2. Basic of Python & Jupyter Notebook\n",
    "3. K-NN\n",
    "4. Optimization\n",
    "5. K-means(1)\n",
    "6. K-means(2)\n",
    "7. PCA(1)\n",
    "8. PCA(2)\n",
    "9. LDA(1)\n",
    "10. LDA(2)\n",
    "11. SVM(1)\n",
    "12. SVM(2)\n",
    "13. SVM(3)\n"
   ]
  },
  {
   "cell_type": "code",
   "execution_count": null,
   "metadata": {
    "collapsed": true
   },
   "outputs": [],
   "source": []
  }
 ],
 "metadata": {
  "kernelspec": {
   "display_name": "Python 3",
   "language": "python",
   "name": "python3"
  },
  "language_info": {
   "codemirror_mode": {
    "name": "ipython",
    "version": 3
   },
   "file_extension": ".py",
   "mimetype": "text/x-python",
   "name": "python",
   "nbconvert_exporter": "python",
   "pygments_lexer": "ipython3",
   "version": "3.6.3"
  }
 },
 "nbformat": 4,
 "nbformat_minor": 2
}
